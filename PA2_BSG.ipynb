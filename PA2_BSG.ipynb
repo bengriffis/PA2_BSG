{
 "cells": [
  {
   "cell_type": "markdown",
   "id": "6d1f331a",
   "metadata": {},
   "source": [
    "# Assignment 2\n",
    "### Benjamin Griffis\n",
    "### CS-150-01"
   ]
  },
  {
   "cell_type": "markdown",
   "id": "741f581b",
   "metadata": {},
   "source": [
    "## Append\n",
    "The append function adds an element to the end of a list."
   ]
  },
  {
   "cell_type": "code",
   "execution_count": 1,
   "id": "5178a649",
   "metadata": {},
   "outputs": [
    {
     "data": {
      "text/plain": [
       "list"
      ]
     },
     "execution_count": 1,
     "metadata": {},
     "output_type": "execute_result"
    }
   ],
   "source": [
    "colors=[]\n",
    "type(colors)"
   ]
  },
  {
   "cell_type": "code",
   "execution_count": 2,
   "id": "ec47bf8b",
   "metadata": {},
   "outputs": [
    {
     "data": {
      "text/plain": [
       "['Green', 'Blue', 'Red']"
      ]
     },
     "execution_count": 2,
     "metadata": {},
     "output_type": "execute_result"
    }
   ],
   "source": [
    "colors.append('Green')\n",
    "colors.append('Blue')\n",
    "colors.append('Red')\n",
    "colors"
   ]
  },
  {
   "cell_type": "markdown",
   "id": "4d872267",
   "metadata": {},
   "source": [
    "## Extend\n",
    "The extend function adds specific list elements to the end of the current list."
   ]
  },
  {
   "cell_type": "code",
   "execution_count": 3,
   "id": "d3cd3e6d",
   "metadata": {},
   "outputs": [
    {
     "data": {
      "text/plain": [
       "list"
      ]
     },
     "execution_count": 3,
     "metadata": {},
     "output_type": "execute_result"
    }
   ],
   "source": [
    "colors_2=['Purple', 'Orange', 'Yellow']\n",
    "type(colors_2)"
   ]
  },
  {
   "cell_type": "code",
   "execution_count": 4,
   "id": "ae4e291c",
   "metadata": {},
   "outputs": [],
   "source": [
    "colors.extend(colors_2)"
   ]
  },
  {
   "cell_type": "code",
   "execution_count": 5,
   "id": "d33eee73",
   "metadata": {},
   "outputs": [
    {
     "name": "stdout",
     "output_type": "stream",
     "text": [
      "['Green', 'Blue', 'Red', 'Purple', 'Orange', 'Yellow']\n"
     ]
    }
   ],
   "source": [
    "print(colors)"
   ]
  },
  {
   "cell_type": "markdown",
   "id": "dbd2ee94",
   "metadata": {},
   "source": [
    "## Insert\n",
    "The insert function puts an element into the list at a specific index."
   ]
  },
  {
   "cell_type": "code",
   "execution_count": 6,
   "id": "35b162d9",
   "metadata": {},
   "outputs": [],
   "source": [
    "new_list=[1,2,4,6,7]"
   ]
  },
  {
   "cell_type": "code",
   "execution_count": 7,
   "id": "da6e2827",
   "metadata": {},
   "outputs": [],
   "source": [
    "new_list.insert(2, 3)"
   ]
  },
  {
   "cell_type": "code",
   "execution_count": 8,
   "id": "05ac6f64",
   "metadata": {},
   "outputs": [
    {
     "data": {
      "text/plain": [
       "[1, 2, 3, 4, 6, 7]"
      ]
     },
     "execution_count": 8,
     "metadata": {},
     "output_type": "execute_result"
    }
   ],
   "source": [
    "new_list"
   ]
  },
  {
   "cell_type": "code",
   "execution_count": 9,
   "id": "d73b773e",
   "metadata": {},
   "outputs": [
    {
     "data": {
      "text/plain": [
       "[1, 2, 3, 4, 5, 6, 7]"
      ]
     },
     "execution_count": 9,
     "metadata": {},
     "output_type": "execute_result"
    }
   ],
   "source": [
    "new_list.insert(4, 5)\n",
    "new_list"
   ]
  },
  {
   "cell_type": "markdown",
   "id": "50892ea0",
   "metadata": {},
   "source": [
    "## Remove\n",
    "The remove function eliminates a single element from a list"
   ]
  },
  {
   "cell_type": "code",
   "execution_count": 10,
   "id": "3ef729a3",
   "metadata": {},
   "outputs": [
    {
     "data": {
      "text/plain": [
       "[1, 2, 3, 4, 5, 6, 7]"
      ]
     },
     "execution_count": 10,
     "metadata": {},
     "output_type": "execute_result"
    }
   ],
   "source": [
    "new_list"
   ]
  },
  {
   "cell_type": "code",
   "execution_count": 11,
   "id": "5d3bbf3f",
   "metadata": {},
   "outputs": [],
   "source": [
    "new_list.remove(7)"
   ]
  },
  {
   "cell_type": "code",
   "execution_count": 12,
   "id": "eb9c68fe",
   "metadata": {},
   "outputs": [
    {
     "data": {
      "text/plain": [
       "[1, 2, 3, 4, 5, 6]"
      ]
     },
     "execution_count": 12,
     "metadata": {},
     "output_type": "execute_result"
    }
   ],
   "source": [
    "new_list"
   ]
  },
  {
   "cell_type": "markdown",
   "id": "dc1aac5a",
   "metadata": {},
   "source": [
    "## Count\n",
    "The count function tells the number of elements of specified thing"
   ]
  },
  {
   "cell_type": "code",
   "execution_count": 13,
   "id": "780bcd8c",
   "metadata": {},
   "outputs": [
    {
     "data": {
      "text/plain": [
       "['Green', 'Blue', 'Red', 'Purple', 'Orange', 'Yellow']"
      ]
     },
     "execution_count": 13,
     "metadata": {},
     "output_type": "execute_result"
    }
   ],
   "source": [
    "colors"
   ]
  },
  {
   "cell_type": "code",
   "execution_count": 14,
   "id": "6fd02f68",
   "metadata": {},
   "outputs": [
    {
     "data": {
      "text/plain": [
       "1"
      ]
     },
     "execution_count": 14,
     "metadata": {},
     "output_type": "execute_result"
    }
   ],
   "source": [
    "colors.count(\"Purple\")"
   ]
  },
  {
   "cell_type": "code",
   "execution_count": 15,
   "id": "88ba1985",
   "metadata": {},
   "outputs": [],
   "source": [
    "colors.append('Purple')"
   ]
  },
  {
   "cell_type": "code",
   "execution_count": 16,
   "id": "d093fb64",
   "metadata": {},
   "outputs": [
    {
     "data": {
      "text/plain": [
       "['Green', 'Blue', 'Red', 'Purple', 'Orange', 'Yellow', 'Purple']"
      ]
     },
     "execution_count": 16,
     "metadata": {},
     "output_type": "execute_result"
    }
   ],
   "source": [
    "colors"
   ]
  },
  {
   "cell_type": "code",
   "execution_count": 17,
   "id": "e38a42a4",
   "metadata": {},
   "outputs": [
    {
     "data": {
      "text/plain": [
       "2"
      ]
     },
     "execution_count": 17,
     "metadata": {},
     "output_type": "execute_result"
    }
   ],
   "source": [
    "colors.count(\"Purple\")"
   ]
  },
  {
   "cell_type": "markdown",
   "id": "72c4d7c8",
   "metadata": {},
   "source": [
    "## Index\n",
    "The index function returns the postion at which the specific element is located"
   ]
  },
  {
   "cell_type": "code",
   "execution_count": 18,
   "id": "cca860c1",
   "metadata": {},
   "outputs": [
    {
     "data": {
      "text/plain": [
       "['Green', 'Blue', 'Red', 'Purple', 'Orange', 'Yellow', 'Purple']"
      ]
     },
     "execution_count": 18,
     "metadata": {},
     "output_type": "execute_result"
    }
   ],
   "source": [
    "colors"
   ]
  },
  {
   "cell_type": "code",
   "execution_count": 19,
   "id": "a7cf7711",
   "metadata": {},
   "outputs": [
    {
     "data": {
      "text/plain": [
       "4"
      ]
     },
     "execution_count": 19,
     "metadata": {},
     "output_type": "execute_result"
    }
   ],
   "source": [
    "colors.index('Orange')"
   ]
  },
  {
   "cell_type": "code",
   "execution_count": 20,
   "id": "dffb1014",
   "metadata": {},
   "outputs": [
    {
     "data": {
      "text/plain": [
       "1"
      ]
     },
     "execution_count": 20,
     "metadata": {},
     "output_type": "execute_result"
    }
   ],
   "source": [
    "colors.index('Blue')"
   ]
  },
  {
   "cell_type": "markdown",
   "id": "e51ec3a7",
   "metadata": {},
   "source": [
    "## Pop\n",
    "The pop function removes the item at the index given and retuns the item that was removed"
   ]
  },
  {
   "cell_type": "code",
   "execution_count": 21,
   "id": "fd1ee366",
   "metadata": {},
   "outputs": [
    {
     "data": {
      "text/plain": [
       "[1, 2, 3, 4, 5, 6]"
      ]
     },
     "execution_count": 21,
     "metadata": {},
     "output_type": "execute_result"
    }
   ],
   "source": [
    "new_list"
   ]
  },
  {
   "cell_type": "code",
   "execution_count": 22,
   "id": "e8396c46",
   "metadata": {},
   "outputs": [],
   "source": [
    "x = new_list.pop(2)"
   ]
  },
  {
   "cell_type": "code",
   "execution_count": 23,
   "id": "ea7b0801",
   "metadata": {},
   "outputs": [
    {
     "data": {
      "text/plain": [
       "[1, 2, 4, 5, 6]"
      ]
     },
     "execution_count": 23,
     "metadata": {},
     "output_type": "execute_result"
    }
   ],
   "source": [
    "new_list"
   ]
  },
  {
   "cell_type": "code",
   "execution_count": 24,
   "id": "cb52c596",
   "metadata": {},
   "outputs": [
    {
     "data": {
      "text/plain": [
       "3"
      ]
     },
     "execution_count": 24,
     "metadata": {},
     "output_type": "execute_result"
    }
   ],
   "source": [
    "x"
   ]
  },
  {
   "cell_type": "markdown",
   "id": "0d949539",
   "metadata": {},
   "source": [
    "## Sorted\n",
    "The sorted function returns a list of specified iterable object"
   ]
  },
  {
   "cell_type": "code",
   "execution_count": 25,
   "id": "446b7f28",
   "metadata": {},
   "outputs": [],
   "source": [
    "newlist_1 = ('b' , 'f', 'c', 'a', 'd', 'e')"
   ]
  },
  {
   "cell_type": "code",
   "execution_count": 26,
   "id": "95f80df0",
   "metadata": {},
   "outputs": [
    {
     "data": {
      "text/plain": [
       "['a', 'b', 'c', 'd', 'e', 'f']"
      ]
     },
     "execution_count": 26,
     "metadata": {},
     "output_type": "execute_result"
    }
   ],
   "source": [
    "sorted(newlist_1)"
   ]
  },
  {
   "cell_type": "code",
   "execution_count": 27,
   "id": "3e7478a5",
   "metadata": {},
   "outputs": [],
   "source": [
    "newlist_2 = ('3', '1', '5', '2', '4')"
   ]
  },
  {
   "cell_type": "code",
   "execution_count": 28,
   "id": "4a88b2f5",
   "metadata": {},
   "outputs": [
    {
     "data": {
      "text/plain": [
       "['1', '2', '3', '4', '5']"
      ]
     },
     "execution_count": 28,
     "metadata": {},
     "output_type": "execute_result"
    }
   ],
   "source": [
    "sorted(newlist_2)"
   ]
  },
  {
   "cell_type": "markdown",
   "id": "6b41963f",
   "metadata": {},
   "source": [
    "## Copy\n",
    "The copy function returns a duplicate of the list"
   ]
  },
  {
   "cell_type": "code",
   "execution_count": 29,
   "id": "7dddba17",
   "metadata": {},
   "outputs": [
    {
     "data": {
      "text/plain": [
       "[1, 2, 4, 5, 6]"
      ]
     },
     "execution_count": 29,
     "metadata": {},
     "output_type": "execute_result"
    }
   ],
   "source": [
    "new_list"
   ]
  },
  {
   "cell_type": "code",
   "execution_count": 35,
   "id": "22c9abf9",
   "metadata": {},
   "outputs": [],
   "source": [
    "copy = new_list.copy()"
   ]
  },
  {
   "cell_type": "code",
   "execution_count": 36,
   "id": "9fd34527",
   "metadata": {},
   "outputs": [
    {
     "data": {
      "text/plain": [
       "[1, 2, 4, 5, 6]"
      ]
     },
     "execution_count": 36,
     "metadata": {},
     "output_type": "execute_result"
    }
   ],
   "source": [
    "copy"
   ]
  },
  {
   "cell_type": "markdown",
   "id": "96378da4",
   "metadata": {},
   "source": [
    "## Clear\n",
    "The clear fucntion removes all items from the list"
   ]
  },
  {
   "cell_type": "code",
   "execution_count": 39,
   "id": "4b53ea03",
   "metadata": {},
   "outputs": [
    {
     "data": {
      "text/plain": [
       "['Green', 'Blue', 'Red', 'Purple', 'Orange', 'Yellow', 'Purple']"
      ]
     },
     "execution_count": 39,
     "metadata": {},
     "output_type": "execute_result"
    }
   ],
   "source": [
    "colors"
   ]
  },
  {
   "cell_type": "code",
   "execution_count": 40,
   "id": "56aeca48",
   "metadata": {},
   "outputs": [],
   "source": [
    "colors.clear()"
   ]
  },
  {
   "cell_type": "code",
   "execution_count": 41,
   "id": "80143228",
   "metadata": {},
   "outputs": [
    {
     "data": {
      "text/plain": [
       "[]"
      ]
     },
     "execution_count": 41,
     "metadata": {},
     "output_type": "execute_result"
    }
   ],
   "source": [
    "colors"
   ]
  },
  {
   "cell_type": "markdown",
   "id": "c459b7d7",
   "metadata": {},
   "source": [
    "## List\n",
    "The list fucntion returns the element in list form"
   ]
  },
  {
   "cell_type": "code",
   "execution_count": 42,
   "id": "3592d0ff",
   "metadata": {},
   "outputs": [],
   "source": [
    "text = \"Benjamin\""
   ]
  },
  {
   "cell_type": "code",
   "execution_count": 43,
   "id": "61a856cf",
   "metadata": {},
   "outputs": [
    {
     "data": {
      "text/plain": [
       "['B', 'e', 'n', 'j', 'a', 'm', 'i', 'n']"
      ]
     },
     "execution_count": 43,
     "metadata": {},
     "output_type": "execute_result"
    }
   ],
   "source": [
    "list(text)"
   ]
  },
  {
   "cell_type": "markdown",
   "id": "1ca58d56",
   "metadata": {},
   "source": [
    "## Len\n",
    "The len function returns the number of items in an object."
   ]
  },
  {
   "cell_type": "code",
   "execution_count": 44,
   "id": "5e46b31a",
   "metadata": {},
   "outputs": [
    {
     "data": {
      "text/plain": [
       "'Benjamin'"
      ]
     },
     "execution_count": 44,
     "metadata": {},
     "output_type": "execute_result"
    }
   ],
   "source": [
    "text"
   ]
  },
  {
   "cell_type": "code",
   "execution_count": 45,
   "id": "4156e0c2",
   "metadata": {},
   "outputs": [
    {
     "data": {
      "text/plain": [
       "8"
      ]
     },
     "execution_count": 45,
     "metadata": {},
     "output_type": "execute_result"
    }
   ],
   "source": [
    "len(text)"
   ]
  },
  {
   "cell_type": "markdown",
   "id": "1869a786",
   "metadata": {},
   "source": [
    "## Max\n",
    "The max function returns the item with the highest value, or the item with the highest value in an iterable."
   ]
  },
  {
   "cell_type": "code",
   "execution_count": 60,
   "id": "c8cd7f23",
   "metadata": {},
   "outputs": [
    {
     "data": {
      "text/plain": [
       "(11, 15, 47, 33, 2, 99, 22)"
      ]
     },
     "execution_count": 60,
     "metadata": {},
     "output_type": "execute_result"
    }
   ],
   "source": [
    "newlist_3=(11, 15, 47, 33, 2, 99, 22)\n",
    "newlist_3"
   ]
  },
  {
   "cell_type": "code",
   "execution_count": 61,
   "id": "0b5ce66d",
   "metadata": {},
   "outputs": [
    {
     "data": {
      "text/plain": [
       "99"
      ]
     },
     "execution_count": 61,
     "metadata": {},
     "output_type": "execute_result"
    }
   ],
   "source": [
    "max(newlist_3)"
   ]
  },
  {
   "cell_type": "markdown",
   "id": "27045a48",
   "metadata": {},
   "source": [
    "## Min\n",
    "The min function returns the item with the lowest value, or the item with the lowest vaule in an iterable."
   ]
  },
  {
   "cell_type": "code",
   "execution_count": 62,
   "id": "936bb19e",
   "metadata": {},
   "outputs": [
    {
     "data": {
      "text/plain": [
       "(11, 15, 47, 33, 2, 99, 22)"
      ]
     },
     "execution_count": 62,
     "metadata": {},
     "output_type": "execute_result"
    }
   ],
   "source": [
    "newlist_3"
   ]
  },
  {
   "cell_type": "code",
   "execution_count": 63,
   "id": "1a45850b",
   "metadata": {},
   "outputs": [
    {
     "data": {
      "text/plain": [
       "2"
      ]
     },
     "execution_count": 63,
     "metadata": {},
     "output_type": "execute_result"
    }
   ],
   "source": [
    "min(newlist_3)"
   ]
  },
  {
   "cell_type": "markdown",
   "id": "9f64b4c9",
   "metadata": {},
   "source": [
    "## Extra Credit"
   ]
  },
  {
   "cell_type": "code",
   "execution_count": 1,
   "id": "d10619bd",
   "metadata": {},
   "outputs": [
    {
     "data": {
      "text/plain": [
       "('Monroe', 'Ohio', 'USA')"
      ]
     },
     "execution_count": 1,
     "metadata": {},
     "output_type": "execute_result"
    }
   ],
   "source": [
    "rotate=('Monroe', 'Ohio', 'USA')\n",
    "rotate"
   ]
  },
  {
   "cell_type": "code",
   "execution_count": 2,
   "id": "fcd44d68",
   "metadata": {},
   "outputs": [],
   "source": [
    "city, state, country=rotate"
   ]
  },
  {
   "cell_type": "code",
   "execution_count": 3,
   "id": "eb5dc198",
   "metadata": {},
   "outputs": [
    {
     "data": {
      "text/plain": [
       "'Monroe'"
      ]
     },
     "execution_count": 3,
     "metadata": {},
     "output_type": "execute_result"
    }
   ],
   "source": [
    "city"
   ]
  },
  {
   "cell_type": "code",
   "execution_count": 4,
   "id": "a88b1205",
   "metadata": {},
   "outputs": [
    {
     "data": {
      "text/plain": [
       "'Ohio'"
      ]
     },
     "execution_count": 4,
     "metadata": {},
     "output_type": "execute_result"
    }
   ],
   "source": [
    "state"
   ]
  },
  {
   "cell_type": "code",
   "execution_count": 5,
   "id": "f02a9a33",
   "metadata": {},
   "outputs": [
    {
     "data": {
      "text/plain": [
       "'USA'"
      ]
     },
     "execution_count": 5,
     "metadata": {},
     "output_type": "execute_result"
    }
   ],
   "source": [
    "country"
   ]
  }
 ],
 "metadata": {
  "kernelspec": {
   "display_name": "Python 3 (ipykernel)",
   "language": "python",
   "name": "python3"
  },
  "language_info": {
   "codemirror_mode": {
    "name": "ipython",
    "version": 3
   },
   "file_extension": ".py",
   "mimetype": "text/x-python",
   "name": "python",
   "nbconvert_exporter": "python",
   "pygments_lexer": "ipython3",
   "version": "3.9.12"
  }
 },
 "nbformat": 4,
 "nbformat_minor": 5
}
